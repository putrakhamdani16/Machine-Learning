{
 "cells": [
  {
   "cell_type": "markdown",
   "metadata": {
    "id": "7fVsEJNwd4Az"
   },
   "source": [
    "# Praktikum 1 - Klasifikasi Iris dengan Perceptron\n",
    "\n",
    "**Nama : Nanda Putra Khamdani**\n",
    "\n",
    "**Kelas : TI-3H / 18**\n",
    "\n",
    "**NIM : 2241720180**\n",
    "\n",
    "\n",
    "  ### Deskripsi\n",
    "\n",
    "  Pada pratikum ini, Anda diminta untuk melakukan klasifikasi bunga iris dengan menggunakan model Perceptron. Anda dapat menggunakan dataset iris pada praktikum sebelumnya.\n",
    "\n",
    "  Untuk nembah pemahaman Anda terkait dengan model Perceptron, pada pratkikum ini Anda akan membuat model Perceptron tanpa menggunakan library.\n",
    "\n"
   ]
  },
  {
   "cell_type": "markdown",
   "metadata": {
    "id": "CvTgplOpeElA"
   },
   "source": [
    "* Langkah 1 - Import Library"
   ]
  },
  {
   "cell_type": "code",
   "execution_count": 41,
   "metadata": {
    "id": "yRHAUcdQeEU4"
   },
   "outputs": [],
   "source": [
    "import numpy as np\n",
    "import matplotlib.pyplot as plt\n",
    "import pandas as pd\n",
    "import seaborn as sns"
   ]
  },
  {
   "cell_type": "markdown",
   "metadata": {
    "id": "49CKViZ3eHGe"
   },
   "source": [
    "* Langkah 2 - Load Data dan Visualisasi"
   ]
  },
  {
   "cell_type": "code",
   "execution_count": 42,
   "metadata": {
    "colab": {
     "base_uri": "https://localhost:8080/",
     "height": 577
    },
    "id": "tnpaagh_gtL0",
    "outputId": "acafa236-e079-484b-b13b-2d26eae38e21"
   },
   "outputs": [
    {
     "data": {
      "image/png": "[encoded data removed]",
      "text/plain": [
       "<Figure size 640x480 with 1 Axes>"
      ]
     },
     "metadata": {},
     "output_type": "display_data"
    }
   ],
   "source": [
    "df = pd.read_csv('../Jobsheet9_Perceptron-ANN/Data/Iris.csv')\n",
    "\n",
    "setosa = df[df['Species'] == 'Iris-setosa']\n",
    "versicolor = df[df['Species'] == 'Iris-versicolor']\n",
    "virginica = df[df['Species'] == 'Iris-virginica']\n",
    "\n",
    "a, b = 'SepalLengthCm', 'PetalWidthCm'\n",
    "plt.scatter(setosa[a], setosa[b], color='red', marker='o', label='setosa')\n",
    "plt.scatter(versicolor[a], versicolor[b], color='blue', marker='x', label='versicolor')\n",
    "\n",
    "plt.xlabel('Petal Width')\n",
    "plt.ylabel('Sepal Length')\n",
    "plt.legend(loc='upper left')\n",
    "plt.grid()\n",
    "plt.show()"
   ]
  },
  {
   "cell_type": "markdown",
   "metadata": {},
   "source": [
    "Kode di atas digunakan untuk memvisualisasikan hubungan antara dua fitur pada dataset Iris untuk dua spesies bunga, yaitu Iris-setosa dan Iris-versicolor. Pertama, dataset Iris.csv dimuat menggunakan pd.read_csv, lalu data untuk setiap spesies difilter menggunakan perintah df[df['Species'] == 'nama_spesies']. Selanjutnya, dua variabel, yaitu SepalLengthCm dan PetalWidthCm, digunakan sebagai sumbu x dan y pada plot. Data untuk spesies setosa divisualisasikan dengan titik berwarna merah dan simbol lingkaran, sementara spesies versicolor divisualisasikan dengan titik berwarna biru dan simbol silang. Judul untuk sumbu x dan y diatur sebagai Petal Width dan Sepal Length\n",
    "\n",
    "---"
   ]
  },
  {
   "cell_type": "markdown",
   "metadata": {
    "id": "eTGlhyPvkLga"
   },
   "source": [
    "* Langkah 3 - Membuat Kelas Perceptron"
   ]
  },
  {
   "cell_type": "code",
   "execution_count": 43,
   "metadata": {
    "id": "NCEbDB9rkMla"
   },
   "outputs": [],
   "source": [
    "class Perceptron(object):\n",
    "    def __init__(self, eta=0.01, n_iter=10):\n",
    "        self.eta = eta\n",
    "        self.n_iter = n_iter\n",
    "\n",
    "    def fit(self, X, y):\n",
    "\n",
    "        self.w_ = np.zeros(1 + X.shape[1])\n",
    "        self.errors_ = []\n",
    "\n",
    "        for _ in range(self.n_iter):\n",
    "            errors = 0\n",
    "            for xi, target in zip(X, y):\n",
    "                update = self.eta * (target - self.predict(xi))\n",
    "                self.w_[0] += update\n",
    "                self.w_[1:] += update * xi\n",
    "                errors += int(update != 0.0)\n",
    "            self.errors_.append(errors)\n",
    "        return self\n",
    "\n",
    "    def net_input(self, X):\n",
    "        X = np.array(X)\n",
    "        return np.dot(X, self.w_[1:]) + self.w_[0]\n",
    "\n",
    "    def predict(self, X):\n",
    "        return np.where(self.net_input(X) >= 0.0, 1, -1)"
   ]
  },
  {
   "cell_type": "markdown",
   "metadata": {},
   "source": [
    "Kode di atas mendefinisikan kelas Perceptron. Kelas ini memiliki dua parameter utama: eta (laju pembelajaran) dan n_iter (jumlah iterasi pelatihan).\n",
    "\n",
    "Metode fit digunakan untuk melatih model menggunakan data input X dan target label y. Bobot awal (w_) diinisialisasi dengan nol. Pada setiap iterasi, bobot diperbarui berdasarkan selisih antara nilai target dan prediksi. Pembaruan dilakukan dengan mengalikan laju pembelajaran (eta) dengan kesalahan prediksi, lalu menambahkan hasil pembaruan ke bias (w_[0]) dan bobot lainnya (w_[1:]). Jumlah kesalahan per iterasi dicatat dalam errors_.\n",
    "\n",
    "Metode net_input menghitung input bersih (dot product antara input X dan bobot), sementara metode predict mengembalikan klasifikasi biner berdasarkan apakah nilai input bersih lebih besar atau sama dengan 0 (menghasilkan 1) atau kurang dari 0 (menghasilkan -1).\n",
    "\n",
    "---"
   ]
  },
  {
   "cell_type": "markdown",
   "metadata": {
    "id": "e8gTAp92kOfF"
   },
   "source": [
    "* Langkah 4 - Pilih Data dan Encoding Label"
   ]
  },
  {
   "cell_type": "code",
   "execution_count": 44,
   "metadata": {
    "id": "R9nrtXkEkQOy"
   },
   "outputs": [],
   "source": [
    "y = df.iloc[0:100, 5].values # pilih 100 data awal\n",
    "y = np.where(y == 'Iris-setosa', -1, 1) # ganti coding label\n",
    "X = df.iloc[0:100, [1, 4]].values # slice data latih"
   ]
  },
  {
   "cell_type": "markdown",
   "metadata": {},
   "source": [
    "Kode di atas mempersiapkan data dari dataset Iris untuk digunakan dalam model klasifikasi biner. Variabel y diambil dari 100 baris pertama kolom Species dan labelnya di-encode sehingga Iris-setosa diberi nilai -1 dan spesies lain diberi nilai 1. Selanjutnya, dua fitur (panjang sepal dan lebar petal) dari 100 baris pertama dipilih dan disimpan dalam variabel X sebagai data latih.\n",
    "\n",
    "---"
   ]
  },
  {
   "cell_type": "code",
   "execution_count": 45,
   "metadata": {
    "colab": {
     "base_uri": "https://localhost:8080/"
    },
    "id": "R37DJcRspQCT",
    "outputId": "012bfc66-a60d-440d-ac3d-ba36d03603ad"
   },
   "outputs": [
    {
     "name": "stdout",
     "output_type": "stream",
     "text": [
      "X (Fitur):\n",
      "[[5.1 0.2]\n",
      " [4.9 0.2]\n",
      " [4.7 0.2]\n",
      " [4.6 0.2]\n",
      " [5.  0.2]\n",
      " [5.4 0.4]\n",
      " [4.6 0.3]\n",
      " [5.  0.2]\n",
      " [4.4 0.2]\n",
      " [4.9 0.1]\n",
      " [5.4 0.2]\n",
      " [4.8 0.2]\n",
      " [4.8 0.1]\n",
      " [4.3 0.1]\n",
      " [5.8 0.2]\n",
      " [5.7 0.4]\n",
      " [5.4 0.4]\n",
      " [5.1 0.3]\n",
      " [5.7 0.3]\n",
      " [5.1 0.3]\n",
      " [5.4 0.2]\n",
      " [5.1 0.4]\n",
      " [4.6 0.2]\n",
      " [5.1 0.5]\n",
      " [4.8 0.2]\n",
      " [5.  0.2]\n",
      " [5.  0.4]\n",
      " [5.2 0.2]\n",
      " [5.2 0.2]\n",
      " [4.7 0.2]\n",
      " [4.8 0.2]\n",
      " [5.4 0.4]\n",
      " [5.2 0.1]\n",
      " [5.5 0.2]\n",
      " [4.9 0.1]\n",
      " [5.  0.2]\n",
      " [5.5 0.2]\n",
      " [4.9 0.1]\n",
      " [4.4 0.2]\n",
      " [5.1 0.2]\n",
      " [5.  0.3]\n",
      " [4.5 0.3]\n",
      " [4.4 0.2]\n",
      " [5.  0.6]\n",
      " [5.1 0.4]\n",
      " [4.8 0.3]\n",
      " [5.1 0.2]\n",
      " [4.6 0.2]\n",
      " [5.3 0.2]\n",
      " [5.  0.2]\n",
      " [7.  1.4]\n",
      " [6.4 1.5]\n",
      " [6.9 1.5]\n",
      " [5.5 1.3]\n",
      " [6.5 1.5]\n",
      " [5.7 1.3]\n",
      " [6.3 1.6]\n",
      " [4.9 1. ]\n",
      " [6.6 1.3]\n",
      " [5.2 1.4]\n",
      " [5.  1. ]\n",
      " [5.9 1.5]\n",
      " [6.  1. ]\n",
      " [6.1 1.4]\n",
      " [5.6 1.3]\n",
      " [6.7 1.4]\n",
      " [5.6 1.5]\n",
      " [5.8 1. ]\n",
      " [6.2 1.5]\n",
      " [5.6 1.1]\n",
      " [5.9 1.8]\n",
      " [6.1 1.3]\n",
      " [6.3 1.5]\n",
      " [6.1 1.2]\n",
      " [6.4 1.3]\n",
      " [6.6 1.4]\n",
      " [6.8 1.4]\n",
      " [6.7 1.7]\n",
      " [6.  1.5]\n",
      " [5.7 1. ]\n",
      " [5.5 1.1]\n",
      " [5.5 1. ]\n",
      " [5.8 1.2]\n",
      " [6.  1.6]\n",
      " [5.4 1.5]\n",
      " [6.  1.6]\n",
      " [6.7 1.5]\n",
      " [6.3 1.3]\n",
      " [5.6 1.3]\n",
      " [5.5 1.3]\n",
      " [5.5 1.2]\n",
      " [6.1 1.4]\n",
      " [5.8 1.2]\n",
      " [5.  1. ]\n",
      " [5.6 1.3]\n",
      " [5.7 1.2]\n",
      " [5.7 1.3]\n",
      " [6.2 1.3]\n",
      " [5.1 1.1]\n",
      " [5.7 1.3]]\n",
      "\n",
      "y (Label):\n",
      "[-1 -1 -1 -1 -1 -1 -1 -1 -1 -1 -1 -1 -1 -1 -1 -1 -1 -1 -1 -1 -1 -1 -1 -1\n",
      " -1 -1 -1 -1 -1 -1 -1 -1 -1 -1 -1 -1 -1 -1 -1 -1 -1 -1 -1 -1 -1 -1 -1 -1\n",
      " -1 -1  1  1  1  1  1  1  1  1  1  1  1  1  1  1  1  1  1  1  1  1  1  1\n",
      "  1  1  1  1  1  1  1  1  1  1  1  1  1  1  1  1  1  1  1  1  1  1  1  1\n",
      "  1  1  1  1]\n"
     ]
    }
   ],
   "source": [
    "# Mencetak nilai X dan y\n",
    "print(\"X (Fitur):\")\n",
    "print(X)\n",
    "print(\"\\ny (Label):\")\n",
    "print(y)"
   ]
  },
  {
   "cell_type": "markdown",
   "metadata": {
    "id": "WtZLTteGk1Z7"
   },
   "source": [
    "* Langkah 5 - Fitting Model"
   ]
  },
  {
   "cell_type": "code",
   "execution_count": 46,
   "metadata": {
    "colab": {
     "base_uri": "https://localhost:8080/"
    },
    "id": "XzC3WzyJk3Sq",
    "outputId": "627fab0f-e281-48b9-953a-2071dd4795a1"
   },
   "outputs": [
    {
     "data": {
      "text/plain": [
       "<__main__.Perceptron at 0x1eefbd1a000>"
      ]
     },
     "execution_count": 46,
     "metadata": {},
     "output_type": "execute_result"
    }
   ],
   "source": [
    "ppn = Perceptron(eta=0.1, n_iter=10)\n",
    "ppn.fit(X, y)"
   ]
  },
  {
   "cell_type": "markdown",
   "metadata": {},
   "source": [
    "Kode di atas digunakan untuk melatih model Perceptron dengan data yang telah disiapkan. Objek ppn dibuat dari kelas Perceptron dengan laju pembelajaran (eta) sebesar 0.1 dan jumlah iterasi pelatihan (n_iter) sebanyak 10. Model tersebut kemudian dilatih menggunakan data fitur X dan label y dengan memanggil metode fit. Model ini akan memperbarui bobotnya berdasarkan kesalahan prediksi selama 10 iterasi untuk mempelajari hubungan antara fitur dan label.\n",
    "\n",
    "---"
   ]
  },
  {
   "cell_type": "markdown",
   "metadata": {
    "id": "BKOXICsWk7IM"
   },
   "source": [
    "* Langkah 6 - Visualisasi Nilai Error Per Epoch"
   ]
  },
  {
   "cell_type": "code",
   "execution_count": 47,
   "metadata": {
    "colab": {
     "base_uri": "https://localhost:8080/",
     "height": 487
    },
    "id": "KBQ2b5kUk8Vh",
    "outputId": "c1a4461f-c493-4aa4-c0a7-8154c28685cc"
   },
   "outputs": [
    {
     "name": "stdout",
     "output_type": "stream",
     "text": [
      "PPN Erros:  [2, 2, 2, 3, 2, 1, 0, 0, 0, 0]\n"
     ]
    },
    {
     "data": {
      "image/png": "[encoded data removed]",
      "text/plain": [
       "<Figure size 640x480 with 1 Axes>"
      ]
     },
     "metadata": {},
     "output_type": "display_data"
    }
   ],
   "source": [
    "print(f\"PPN Erros: \", ppn.errors_)\n",
    "plt.plot(range(1, len(ppn.errors_)+1), ppn.errors_)\n",
    "plt.xlabel('Epochs')\n",
    "plt.ylabel('Number of updates')\n",
    "plt.show()"
   ]
  },
  {
   "cell_type": "markdown",
   "metadata": {
    "id": "EJM6ekOYn3OZ"
   },
   "source": [
    "* Langkah 7 - Visualiasasi Decision Boundary"
   ]
  },
  {
   "cell_type": "code",
   "execution_count": 48,
   "metadata": {
    "id": "ouFAeOEMn4TM"
   },
   "outputs": [],
   "source": [
    "# buat fungsi untuk plot decision region\n",
    "\n",
    "from matplotlib.colors import ListedColormap\n",
    "\n",
    "def plot_decision_regions(X, y, classifier, resolution=0.02):\n",
    "    # setup marker generator and color map\n",
    "    markers = ('s', 'x', 'o', '^', 'v')\n",
    "    colors = ('r', 'b', 'g', 'k', 'grey')\n",
    "    cmap = ListedColormap(colors[:len(np.unique(y))])\n",
    "\n",
    "    # plot the decision regions by creating a pair of grid arrays xx1 and xx2 via meshgrid function in Numpy\n",
    "    x1_min, x1_max = X[:, 0].min() - 1, X[:, 0].max() + 1\n",
    "    x2_min, x2_max = X[:, 1].min() - 1, X[:, 1].max() + 1\n",
    "\n",
    "    print(f\"x1_min: {x1_min}, x1_max: {x1_max}, x2_min: {x2_min}, x2_max: {x2_max}\")  # Debug print\n",
    "    xx1, xx2 = np.meshgrid(np.arange(x1_min, x1_max, resolution), np.arange(x2_min, x2_max, resolution))\n",
    "\n",
    "    # use predict method to predict the class labels z of the grid points\n",
    "    Z = classifier.predict(np.array([xx1.ravel(),xx2.ravel()]).T)\n",
    "    Z = Z.reshape(xx1.shape)\n",
    "\n",
    "    # draw the contour using matplotlib\n",
    "    plt.contourf(xx1, xx2, Z, alpha=0.4, cmap=cmap)\n",
    "    plt.xlim(xx1.min(), xx1.max())\n",
    "    plt.ylim(xx2.min(), xx2.max())\n",
    "\n",
    "    # plot class samples\n",
    "    for i, cl in enumerate(np.unique(y)):\n",
    "        plt.scatter(x=X[y==cl, 0], y=X[y==cl, 1], alpha=0.8, c=cmap(i), marker=markers[i], label=cl)"
   ]
  },
  {
   "cell_type": "markdown",
   "metadata": {},
   "source": [
    "Kode di atas mendefinisikan fungsi plot_decision_regions yang digunakan untuk memvisualisasikan decision boundary dari sebuah model klasifikasi pada data dua dimensi. Fungsi ini menerima input berupa data fitur X, label y, model classifier, dan resolusi grid.\n",
    "\n",
    "Pertama, fungsi menyiapkan penanda (markers) dan warna untuk setiap kelas berdasarkan jumlah kelas unik di y. Kemudian, fungsi membuat grid 2D menggunakan meshgrid untuk mencakup rentang nilai fitur pertama dan kedua, ditambah margin.\n",
    "\n",
    "Setelah grid dibuat, model klasifikasi menggunakan metode predict untuk memprediksi kelas dari setiap titik di grid. Hasil prediksi kemudian dibentuk ulang sesuai dengan bentuk grid dan digunakan untuk menggambar decision boundary dengan fungsi contourf dari Matplotlib.\n",
    "\n",
    "Akhirnya, fungsi ini juga memplot titik data asli dengan penanda dan warna yang berbeda untuk setiap kelas, sehingga decision boundary dan data asli dapat dibandingkan secara visual.\n",
    "\n",
    "---"
   ]
  },
  {
   "cell_type": "code",
   "execution_count": 49,
   "metadata": {
    "colab": {
     "base_uri": "https://localhost:8080/",
     "height": 523
    },
    "id": "uDk9ahE1oKQs",
    "outputId": "5909346f-92c7-4e74-b012-b756cfdee35d"
   },
   "outputs": [
    {
     "name": "stdout",
     "output_type": "stream",
     "text": [
      "x1_min: 3.3, x1_max: 8.0, x2_min: -0.9, x2_max: 2.8\n"
     ]
    },
    {
     "name": "stderr",
     "output_type": "stream",
     "text": [
      "C:\\Users\\Lenovo\\AppData\\Local\\Temp\\ipykernel_12136\\3324269864.py:29: UserWarning: *c* argument looks like a single numeric RGB or RGBA sequence, which should be avoided as value-mapping will have precedence in case its length matches with *x* & *y*.  Please use the *color* keyword-argument or provide a 2D array with a single row if you intend to specify the same RGB or RGBA value for all points.\n",
      "  plt.scatter(x=X[y==cl, 0], y=X[y==cl, 1], alpha=0.8, c=cmap(i), marker=markers[i], label=cl)\n"
     ]
    },
    {
     "data": {
      "image/png": "[encoded data removed]",
      "text/plain": [
       "<Figure size 640x480 with 1 Axes>"
      ]
     },
     "metadata": {},
     "output_type": "display_data"
    }
   ],
   "source": [
    "# Panggil fungsi untuk plot decision region\n",
    "plot_decision_regions(X, y, classifier=ppn)\n",
    "\n",
    "# Tambahkan label dan tampilkan\n",
    "plt.xlabel('Feature 1')\n",
    "plt.ylabel('Feature 2')\n",
    "plt.legend(loc='upper left')\n",
    "plt.show()"
   ]
  }
 ],
 "metadata": {
  "colab": {
   "authorship_tag": "ABX9TyPfNid8dpkF0Ww6rcZQJs5y",
   "mount_file_id": "1KPQgSbK--0bc30ySOUMBnmVQxjKknAEN",
   "provenance": []
  },
  "kernelspec": {
   "display_name": "base",
   "language": "python",
   "name": "python3"
  },
  "language_info": {
   "codemirror_mode": {
    "name": "ipython",
    "version": 3
   },
   "file_extension": ".py",
   "mimetype": "text/x-python",
   "name": "python",
   "nbconvert_exporter": "python",
   "pygments_lexer": "ipython3",
   "version": "3.12.4"
  }
 },
 "nbformat": 4,
 "nbformat_minor": 0
}
